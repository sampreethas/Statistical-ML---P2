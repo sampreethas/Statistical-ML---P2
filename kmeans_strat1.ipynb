{
 "cells": [
  {
   "cell_type": "code",
   "execution_count": 294,
   "id": "d3d40f2a",
   "metadata": {
    "id": "d3d40f2a"
   },
   "outputs": [],
   "source": [
    "#to import the necessary libraries\n",
    "\n",
    "import numpy as np  #to check if numpy is properly installed or not - python library with support for algorithms, arrays etc\n",
    "import matplotlib.pyplot as plt  #to plot the graphs\n",
    "import scipy.io as sc  #open source python library used for mathematical and scientific problems - built on numpy extension\n",
    "import pandas as pd\n",
    "import seaborn as sns  #to plot the graphs"
   ]
  },
  {
   "cell_type": "code",
   "execution_count": 295,
   "id": "d76cd85e",
   "metadata": {
    "colab": {
     "base_uri": "https://localhost:8080/",
     "height": 424
    },
    "id": "d76cd85e",
    "outputId": "f58f0f03-6215-4f8d-e418-eb1f3337f003"
   },
   "outputs": [
    {
     "data": {
      "text/html": [
       "<div>\n",
       "<style scoped>\n",
       "    .dataframe tbody tr th:only-of-type {\n",
       "        vertical-align: middle;\n",
       "    }\n",
       "\n",
       "    .dataframe tbody tr th {\n",
       "        vertical-align: top;\n",
       "    }\n",
       "\n",
       "    .dataframe thead th {\n",
       "        text-align: right;\n",
       "    }\n",
       "</style>\n",
       "<table border=\"1\" class=\"dataframe\">\n",
       "  <thead>\n",
       "    <tr style=\"text-align: right;\">\n",
       "      <th></th>\n",
       "      <th>X</th>\n",
       "      <th>Y</th>\n",
       "    </tr>\n",
       "  </thead>\n",
       "  <tbody>\n",
       "    <tr>\n",
       "      <th>0</th>\n",
       "      <td>2.059249</td>\n",
       "      <td>7.205988</td>\n",
       "    </tr>\n",
       "    <tr>\n",
       "      <th>1</th>\n",
       "      <td>8.875781</td>\n",
       "      <td>8.960924</td>\n",
       "    </tr>\n",
       "    <tr>\n",
       "      <th>2</th>\n",
       "      <td>8.007064</td>\n",
       "      <td>2.775320</td>\n",
       "    </tr>\n",
       "    <tr>\n",
       "      <th>3</th>\n",
       "      <td>5.017288</td>\n",
       "      <td>3.763120</td>\n",
       "    </tr>\n",
       "    <tr>\n",
       "      <th>4</th>\n",
       "      <td>6.390562</td>\n",
       "      <td>5.179565</td>\n",
       "    </tr>\n",
       "    <tr>\n",
       "      <th>...</th>\n",
       "      <td>...</td>\n",
       "      <td>...</td>\n",
       "    </tr>\n",
       "    <tr>\n",
       "      <th>295</th>\n",
       "      <td>4.783632</td>\n",
       "      <td>7.106443</td>\n",
       "    </tr>\n",
       "    <tr>\n",
       "      <th>296</th>\n",
       "      <td>2.646830</td>\n",
       "      <td>6.323443</td>\n",
       "    </tr>\n",
       "    <tr>\n",
       "      <th>297</th>\n",
       "      <td>4.322397</td>\n",
       "      <td>0.330889</td>\n",
       "    </tr>\n",
       "    <tr>\n",
       "      <th>298</th>\n",
       "      <td>2.364303</td>\n",
       "      <td>1.052097</td>\n",
       "    </tr>\n",
       "    <tr>\n",
       "      <th>299</th>\n",
       "      <td>7.785513</td>\n",
       "      <td>3.127245</td>\n",
       "    </tr>\n",
       "  </tbody>\n",
       "</table>\n",
       "<p>300 rows × 2 columns</p>\n",
       "</div>"
      ],
      "text/plain": [
       "            X         Y\n",
       "0    2.059249  7.205988\n",
       "1    8.875781  8.960924\n",
       "2    8.007064  2.775320\n",
       "3    5.017288  3.763120\n",
       "4    6.390562  5.179565\n",
       "..        ...       ...\n",
       "295  4.783632  7.106443\n",
       "296  2.646830  6.323443\n",
       "297  4.322397  0.330889\n",
       "298  2.364303  1.052097\n",
       "299  7.785513  3.127245\n",
       "\n",
       "[300 rows x 2 columns]"
      ]
     },
     "execution_count": 295,
     "metadata": {},
     "output_type": "execute_result"
    }
   ],
   "source": [
    "data_input = sc.loadmat('AllSamples.mat')  #accessing the entire input data\n",
    "n_data = data_input['AllSamples']          #copying 'All Samples' data to n_data\n",
    "\n",
    "dataframe = pd.DataFrame(n_data, columns = ['X', 'Y']) #to display the input x,y using dataframe approach - tabular approach\n",
    "dataframe                                              "
   ]
  },
  {
   "cell_type": "code",
   "execution_count": 296,
   "id": "cf535cc3",
   "metadata": {
    "colab": {
     "base_uri": "https://localhost:8080/",
     "height": 281
    },
    "id": "cf535cc3",
    "outputId": "b0dfdd96-efc9-4395-f089-e98ced5b5211"
   },
   "outputs": [
    {
     "data": {
      "image/png": "[encoded data removed]",
      "text/plain": [
       "<Figure size 432x288 with 1 Axes>"
      ]
     },
     "metadata": {
      "needs_background": "light"
     },
     "output_type": "display_data"
    }
   ],
   "source": [
    "#Scatter plot of input clusters\n",
    "\n",
    "data = {'X_axis': dataframe['X'],\n",
    "        'Y_axis': dataframe['Y']\n",
    "       }\n",
    "  \n",
    "df = pd.DataFrame(data,columns=['X_axis','Y_axis'])\n",
    "df.plot(x ='X_axis', y='Y_axis', kind = 'scatter')    \n",
    "plt.show()\n"
   ]
  },
  {
   "cell_type": "code",
   "execution_count": 297,
   "id": "ecf1dcbc",
   "metadata": {
    "id": "ecf1dcbc"
   },
   "outputs": [],
   "source": [
    "#method to calculate random centroids/initialization of centroids for clusters\n",
    "\"\"\"Strategy 1: randomly choosing the initial centers from the given samples\n",
    "Random Initializations - Random data points are selected as dataset and used as initial centroids\"\"\"\n",
    "\n",
    "def random_centroid_assign(new_data, k):\n",
    "    random_point_idx = [np.random.randint(len(new_data)) for i in range(k)]    #random idx for corresponding samples chosen as centroids \n",
    "    random_centroids = []\n",
    "    for i in random_point_idx:\n",
    "        random_centroids.append(new_data[i])    #assigning the input data with corresponding random_idx to the array centroids\n",
    "    return random_centroids                     "
   ]
  },
  {
   "cell_type": "code",
   "execution_count": 298,
   "id": "e4582dc1",
   "metadata": {
    "id": "e4582dc1"
   },
   "outputs": [],
   "source": [
    "#function to assign/group the data points to corresponding clusters based on centroids\n",
    "\"\"\"Grouping of Clusters - grouping the data points into clusters by considering the index at which \n",
    "the distance between data points and all the k centroids is smaller and its corresponding centroid \n",
    "is selected\"\"\"\n",
    "\n",
    "def set_cluster(new_data, start_centroids, k):\n",
    "    cluster_points = []\n",
    "    for i in range(len(new_data)):\n",
    "        distance = []\n",
    "        for j in range(k):\n",
    "            distance.append(np.linalg.norm(np.subtract(new_data[i], start_centroids[j])))\n",
    "        #assigning idx to sample with least distance\n",
    "        dist_idx = np.argmin(distance)   \n",
    "        cluster_points.append(dist_idx)                   \n",
    "    return np.asarray(cluster_points)                "
   ]
  },
  {
   "cell_type": "code",
   "execution_count": 299,
   "id": "d9a785cd",
   "metadata": {
    "id": "d9a785cd"
   },
   "outputs": [],
   "source": [
    "#function to update the centroids\n",
    "\"\"\"Updating the new centroids - by using clusters from previous centroid and taking mean of data points\"\"\"\n",
    "\n",
    "\n",
    "def centroid_updation(new_data, clusters_val, k):\n",
    "    centroid_point = []\n",
    "    for i in range(k):\n",
    "        arr_bkp = []\n",
    "        for j in range(len(new_data)):\n",
    "            if clusters_val[j]==i:\n",
    "                arr_bkp.append(new_data[j])           \n",
    "        centroid_point.append(np.mean(np.asarray(arr_bkp), axis = 0))   \n",
    "    return np.asarray(centroid_point)"
   ]
  },
  {
   "cell_type": "code",
   "execution_count": 300,
   "id": "4ca4826b",
   "metadata": {
    "id": "4ca4826b"
   },
   "outputs": [],
   "source": [
    "#function to calculate the difference between centroids\n",
    "\"\"\"previous centroid and next centroid distance difference\"\"\"\n",
    "\n",
    "def distance_difference(prior_c, nxt_c):\n",
    "    change = 0\n",
    "    for i in range(len(prior_c)):\n",
    "        change+=np.linalg.norm(np.subtract(prior_c[i], nxt_c[i]))\n",
    "    return change"
   ]
  },
  {
   "cell_type": "code",
   "execution_count": 301,
   "id": "dbe8bc58",
   "metadata": {
    "id": "dbe8bc58"
   },
   "outputs": [],
   "source": [
    "#function to plot the clusters\n",
    "\"\"\"Scatter plot - Diagram where each value in data set is represented by a dot\n",
    "ten different colors are used to distinguish between different clusters\n",
    "initial centroid represented as +\n",
    "final centroid represented as *\"\"\"\n",
    "\n",
    "\n",
    "def cluster_display(new_data, cluster_ip, centroid_ip, start_centroids, centroid_trace = True, start_centroid_disp = True, disp_plots = True):\n",
    "    colors_val = {0:'red', 1:'blue', 2:'green', 3:'coral', 4:'cyan', 5:'lime', 6:'orange', 7:'black', 8:'grey', 9:'pink'} \n",
    "    figure,axes = plt.subplots(figsize=(7.5,6)); \n",
    "    #representing every cluster point \n",
    "    for i in range(len(cluster_ip)):\n",
    "        axes.scatter(new_data[i][0], new_data[i][1], color = colors_val[cluster_ip[i]])\n",
    "    \n",
    "    #representing the initial and final centroids\n",
    "    for j in range(len(centroid_ip)):\n",
    "        axes.scatter(centroid_ip[j][0], centroid_ip[j][1], marker = '*', s=250, color=colors_val[j])\n",
    "        if start_centroid_disp == True:\n",
    "            axes.scatter(start_centroids[j][0], start_centroids[j][1], marker = '+', s=350, color = colors_val[j])\n",
    "    \n",
    "    axes.set_xlabel(\"X_axis\")\n",
    "    axes.set_ylabel(\"Y_axis\")\n",
    "    axes.set_title(\"k means clustering\")\n",
    "    if disp_plots == True:\n",
    "        plt.show()"
   ]
  },
  {
   "cell_type": "code",
   "execution_count": 302,
   "id": "8e5a83af",
   "metadata": {
    "id": "8e5a83af"
   },
   "outputs": [],
   "source": [
    "#main kmeans clustering function call with cluster and centroid points as return value\n",
    "\"\"\"K-means clustering algorithm - identifies k number of centroids \n",
    "and then allocates every data point to the nearest cluster,\n",
    "while keeping the centroids as small as possible\"\"\"\n",
    "\n",
    "\n",
    "def kmeans_alg(new_data, k, disp_grp='all', disp_plots=True):\n",
    "    #calculating the initial centroid and grouping of clusters\n",
    "    prior_cent = random_centroid_assign(new_data, k)\n",
    "    cluster_pnt = set_cluster(new_data, prior_cent, k)\n",
    "    #assuming the initial difference between centroids as 100\n",
    "    change = 100 \n",
    "    start_centroid = prior_cent; #starting initial centroid value\n",
    "    \n",
    "   \n",
    "    \"\"\"updating the centroids with minute difference > 0.01\"\"\"\n",
    "    while change > 0.01:\n",
    "        cluster_pnt = set_cluster(new_data, prior_cent, k)\n",
    "        if disp_grp == 'all' and disp_plots:\n",
    "            cluster_display(new_data, cluster_pnt, prior_cent, start_centroid, False, False, disp_plots = disp_plots)\n",
    "            centroid_trace = False\n",
    "            start_centroid_disp = False\n",
    "        new_cent = centroid_updation(new_data, cluster_pnt, k)\n",
    "        change = distance_difference(prior_cent, new_cent)\n",
    "        prior_cent = new_cent\n",
    "        \n",
    "    #plotting the clusters     \n",
    "    if disp_plots:\n",
    "        cluster_display(new_data, cluster_pnt, prior_cent, start_centroid, centroid_trace = True, start_centroid_disp = True, disp_plots = True)\n",
    "    return cluster_pnt, prior_cent"
   ]
  },
  {
   "cell_type": "code",
   "execution_count": 303,
   "id": "fd9dbfa0",
   "metadata": {
    "id": "fd9dbfa0"
   },
   "outputs": [],
   "source": [
    "#the main function 2 same as main function 1 without displaying clusters  \n",
    "#as it is not used for WCSS calculation\n",
    "\n",
    "def kmeans_alg_2(new_data, k, disp_grp='all', disp_plots=True):\n",
    "    prior_cent = random_centroid_assign(new_data, k)\n",
    "    cluster_pnt = set_cluster(new_data, prior_cent, k)\n",
    "    change = 100 \n",
    "    start_centroid = prior_cent; #starting initial centroid value\n",
    "    \n",
    "    while change > 0.01:\n",
    "        cluster_pnt = set_cluster(new_data, prior_cent, k)\n",
    "        if disp_grp == 'all' and disp_plots:\n",
    "#            cluster_display(new_data, cluster_pnt, prior_cent, start_centroid, False, False, disp_plots = disp_plots)\n",
    "            centroid_trace = False\n",
    "            start_centroid_disp = False\n",
    "        new_cent = centroid_updation(new_data, cluster_pnt, k)\n",
    "        change = distance_difference(prior_cent, new_cent)\n",
    "        prior_cent = new_cent\n",
    "    \n",
    "    return cluster_pnt, prior_cent"
   ]
  },
  {
   "cell_type": "code",
   "execution_count": 304,
   "id": "2c075aae",
   "metadata": {
    "colab": {
     "base_uri": "https://localhost:8080/",
     "height": 492
    },
    "id": "2c075aae",
    "outputId": "931920a2-0232-40fe-b5e7-9d26aa385d49"
   },
   "outputs": [
    {
     "name": "stdout",
     "output_type": "stream",
     "text": [
      "Enter the value of k between 2-10:2\n"
     ]
    },
    {
     "data": {
      "image/png": "[encoded data removed]",
      "text/plain": [
       "<Figure size 540x432 with 1 Axes>"
      ]
     },
     "metadata": {
      "needs_background": "light"
     },
     "output_type": "display_data"
    }
   ],
   "source": [
    "#calculating the centroid and the corresponding clusters for given input dataset\n",
    "\"\"\"the value of k determines the number of clusters \n",
    "the ouput plot shows the different clusters based on k value with their initial(+) and final centroids(*),\n",
    "which determines the improvement in centroid position based on the close approximity of \n",
    "data points to centroids of clusters\"\"\"\n",
    "\n",
    "k = int(input(\"Enter the value of k between 2-10:\"))\n",
    "cluster, centroid = kmeans_alg(n_data, k, disp_grp='output')\n"
   ]
  },
  {
   "cell_type": "code",
   "execution_count": 305,
   "id": "5e2277c6",
   "metadata": {
    "id": "5e2277c6"
   },
   "outputs": [],
   "source": [
    "#function to calculate the cost \n",
    "\"\"\"Sum of squared distance between each point and a centroid in a cluster\"\"\"\n",
    "\n",
    "def cost_calc(x_ip, centroids_pnt, cluster):\n",
    "    wcss = 0\n",
    "    for i, val in enumerate(x_ip):\n",
    "        wcss += np.sqrt((centroids_pnt[int(cluster[i]), 0]-val[0])**2 +(centroids_pnt[int(cluster[i]), 1]-val[1])**2)\n",
    "    return wcss"
   ]
  },
  {
   "cell_type": "code",
   "execution_count": 306,
   "id": "3f51ca9f",
   "metadata": {
    "colab": {
     "base_uri": "https://localhost:8080/",
     "height": 1000
    },
    "id": "3f51ca9f",
    "outputId": "21105a1f-b1d6-409c-e188-d2f655130d44"
   },
   "outputs": [],
   "source": [
    "#calculating the cost for a given range of (2,10) \n",
    "\n",
    "cost_list = []\n",
    "for k in range(2, 11):\n",
    "    clusterrrr, centroidddd = kmeans_alg_2(n_data, k)\n",
    "    # WCSS (Within cluster sum of square)\n",
    "    cost_val = cost_calc(n_data, centroidddd, clusterrrr)\n",
    "    cost_list.append(cost_val)\n"
   ]
  },
  {
   "cell_type": "code",
   "execution_count": 307,
   "id": "jy0mx1Gdiw0C",
   "metadata": {
    "colab": {
     "base_uri": "https://localhost:8080/"
    },
    "id": "jy0mx1Gdiw0C",
    "outputId": "5a6e06a6-b8f7-4134-a13a-2ecdbd65049e"
   },
   "outputs": [
    {
     "data": {
      "text/plain": [
       "[704.0045894890274,\n",
       " 578.9151004150799,\n",
       " 451.48078440188505,\n",
       " 405.2555970353138,\n",
       " 332.78804388579726,\n",
       " 309.82626776318466,\n",
       " 270.95686382381024,\n",
       " 243.96507873076487,\n",
       " 221.51001386483688]"
      ]
     },
     "execution_count": 307,
     "metadata": {},
     "output_type": "execute_result"
    }
   ],
   "source": [
    "#list of cost values for given range\n",
    "cost_list"
   ]
  },
  {
   "cell_type": "code",
   "execution_count": 308,
   "id": "fffcad6b",
   "metadata": {
    "colab": {
     "base_uri": "https://localhost:8080/",
     "height": 279
    },
    "id": "fffcad6b",
    "outputId": "f50561b2-611f-4cc3-89d7-43243a5f12a3"
   },
   "outputs": [
    {
     "data": {
      "image/png": "[encoded data removed]",
      "text/plain": [
       "<Figure size 432x288 with 1 Axes>"
      ]
     },
     "metadata": {
      "needs_background": "light"
     },
     "output_type": "display_data"
    }
   ],
   "source": [
    "#Plotting the objective function vs k value (Elbow method) \n",
    "\"\"\"objective function/wcss - the sum of squared distance between each point and the centroid in a cluster\n",
    "For each value of K, calculating WCSS (Within-Cluster Sum of Square)\n",
    "plot of WCSS with the K value looks like an Elbow \n",
    "As the number of clusters increases, the WCSS value will start to decrease\n",
    "The K value corresponding to elbow point is the optimal K value or an optimal number of clusters\"\"\"\n",
    "\n",
    "sns.lineplot(x=range(2,11), y=cost_list, marker='o')\n",
    "plt.title('Elbow method')\n",
    "plt.xlabel('k')\n",
    "plt.ylabel('WCSS')\n",
    "plt.show()"
   ]
  },
  {
   "cell_type": "code",
   "execution_count": 309,
   "id": "f9ed15bd",
   "metadata": {
    "id": "f9ed15bd"
   },
   "outputs": [
    {
     "name": "stdout",
     "output_type": "stream",
     "text": [
      "Enter the value of k between 2-10:2\n"
     ]
    },
    {
     "data": {
      "image/png": "[encoded data removed]",
      "text/plain": [
       "<Figure size 540x432 with 1 Axes>"
      ]
     },
     "metadata": {
      "needs_background": "light"
     },
     "output_type": "display_data"
    }
   ],
   "source": [
    "#2nd initialization\n",
    "k = int(input(\"Enter the value of k between 2-10:\"))\n",
    "cluster, centroid = kmeans_alg(n_data, k, disp_grp='output')\n"
   ]
  },
  {
   "cell_type": "code",
   "execution_count": 310,
   "id": "2c2afddd",
   "metadata": {},
   "outputs": [],
   "source": [
    "#calculating the cost for a given range of (2,10)\n",
    "\n",
    "cost_list = []\n",
    "for k in range(2, 11):\n",
    "    clusterrrr, centroidddd = kmeans_alg_2(n_data, k)\n",
    "    # WCSS (Within cluster sum of square)\n",
    "    cost_val = cost_calc(n_data, centroidddd, clusterrrr)\n",
    "    cost_list.append(cost_val)\n"
   ]
  },
  {
   "cell_type": "code",
   "execution_count": 311,
   "id": "cb4e4b03",
   "metadata": {},
   "outputs": [
    {
     "data": {
      "image/png": "[encoded data removed]",
      "text/plain": [
       "<Figure size 432x288 with 1 Axes>"
      ]
     },
     "metadata": {
      "needs_background": "light"
     },
     "output_type": "display_data"
    }
   ],
   "source": [
    "#plotting of objective function vs k with second initialization\n",
    "\n",
    "sns.lineplot(x=range(2,11), y=cost_list, marker='o')\n",
    "plt.title('Elbow method - second initialization')\n",
    "plt.xlabel('k')\n",
    "plt.ylabel('WCSS')\n",
    "plt.show()"
   ]
  },
  {
   "cell_type": "code",
   "execution_count": null,
   "id": "fd7213cc",
   "metadata": {},
   "outputs": [],
   "source": []
  }
 ],
 "metadata": {
  "colab": {
   "collapsed_sections": [],
   "name": "Untitled9 (2).ipynb",
   "provenance": []
  },
  "kernelspec": {
   "display_name": "Python 3 (ipykernel)",
   "language": "python",
   "name": "python3"
  },
  "language_info": {
   "codemirror_mode": {
    "name": "ipython",
    "version": 3
   },
   "file_extension": ".py",
   "mimetype": "text/x-python",
   "name": "python",
   "nbconvert_exporter": "python",
   "pygments_lexer": "ipython3",
   "version": "3.9.12"
  }
 },
 "nbformat": 4,
 "nbformat_minor": 5
}
